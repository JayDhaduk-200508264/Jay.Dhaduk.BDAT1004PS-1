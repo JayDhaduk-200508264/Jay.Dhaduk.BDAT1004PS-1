{
 "cells": [
  {
   "cell_type": "markdown",
   "id": "5f1fe68c",
   "metadata": {},
   "source": [
    "# Q1\n",
    "What data type is each of the following (evaluate where necessary)?\n",
    "\n",
    " \n",
    "5               = Integer\n",
    "5.0             = Floating\n",
    "5 > 1           = Boolean\n",
    "'5'             = String\n",
    "5 * 2           = Integer\n",
    "'5' * 2         = String\n",
    "'5' + '2'       = String\n",
    "5 / 2           = Floating\n",
    "5 % 2           = Integer\n",
    "{5, 2, 1}       = Set\n",
    "5 == 3          = Boolean \n",
    "pi (the number) = Flaoting \n"
   ]
  },
  {
   "cell_type": "markdown",
   "id": "50134cda",
   "metadata": {},
   "source": []
  },
  {
   "cell_type": "code",
   "execution_count": 8,
   "id": "1fe0c8cc",
   "metadata": {},
   "outputs": [
    {
     "name": "stdout",
     "output_type": "stream",
     "text": [
      "<class 'int'>\n",
      "<class 'float'>\n",
      "<class 'bool'>\n",
      "<class 'str'>\n",
      "<class 'int'>\n",
      "<class 'str'>\n",
      "<class 'str'>\n",
      "<class 'float'>\n",
      "<class 'int'>\n",
      "<class 'bool'>\n",
      "<class 'set'>\n",
      "<class 'float'>\n"
     ]
    }
   ],
   "source": [
    "print(type(5))\n",
    "print(type(5.0))\n",
    "print(type(5>1))\n",
    "print(type('5'))\n",
    "print(type(5*2))\n",
    "print(type('5' * 2))\n",
    "print(type('5' + '2'))\n",
    "print(type(5 / 2))\n",
    "print(type(5 % 2))\n",
    "print(type(5==3))\n",
    "print(type({5,2,1}))\n",
    "import math\n",
    "print(type(math.pi))"
   ]
  },
  {
   "cell_type": "markdown",
   "id": "db1c7fa5",
   "metadata": {},
   "source": [
    "# Q2\n",
    "Write (and evaluate) python expressions that answer these questions:"
   ]
  },
  {
   "cell_type": "code",
   "execution_count": 7,
   "id": "3970c00e",
   "metadata": {},
   "outputs": [
    {
     "name": "stdout",
     "output_type": "stream",
     "text": [
      "34\n"
     ]
    }
   ],
   "source": [
    "\n",
    "# a. How many letters are there in 'Supercalifragilisticexpialidocious'?\n",
    "\n",
    "x = 'Supercalifragilisticexpialidocious'\n",
    "print(len(x))\n"
   ]
  },
  {
   "cell_type": "code",
   "execution_count": 14,
   "id": "58b9d5e3",
   "metadata": {},
   "outputs": [
    {
     "name": "stdout",
     "output_type": "stream",
     "text": [
      "True\n"
     ]
    }
   ],
   "source": [
    "# b. Does 'Supercalifragilisticexpialidocious' contain 'ice' as a substring?\n",
    "\n",
    "x = 'Supercalifragilisticexpialidocious'\n",
    "print('ice' in x)"
   ]
  },
  {
   "cell_type": "code",
   "execution_count": 21,
   "id": "2765337f",
   "metadata": {},
   "outputs": [
    {
     "name": "stdout",
     "output_type": "stream",
     "text": [
      "Supercalifragilisticexpialidocious\n"
     ]
    }
   ],
   "source": [
    "# c.Which of the following words is the longest: Supercalifragilisticexpialidocious, Honorificabilitudinitatibus, or Bababadalgharaghtakamminarronnkonn?\n",
    "word_list = ['Supercalifragilisticexpialidocious', 'Honorificabilitudinitatibus', 'Bababadalgharaghtakamminarronnkonn']\n",
    "\n",
    "print(max(word_list))\n",
    "\n"
   ]
  },
  {
   "cell_type": "code",
   "execution_count": 49,
   "id": "98805ff8",
   "metadata": {},
   "outputs": [
    {
     "name": "stdout",
     "output_type": "stream",
     "text": [
      "first_name:  Bartok\n",
      "last_name:  Buxtehude\n"
     ]
    }
   ],
   "source": [
    "# d.Which composer comes first in the dictionary: 'Berlioz', 'Borodin', 'Brian','Bartok', 'Bellini', 'Buxtehude', 'Bernstein'. Which one comes last?\n",
    "name_list = ['Berlioz', 'Borodin', 'Brian', 'Bartok', 'Bellini', 'Buxtehude', 'Bernstein']\n",
    "\n",
    "name_list.sort()  \n",
    "\n",
    "print('first_name: ',name_list[0])\n",
    "print('last_name: ' ,name_list[-1])\n"
   ]
  },
  {
   "cell_type": "markdown",
   "id": "6fda769e",
   "metadata": {},
   "source": [
    "# Q3\n",
    "Implement function triangleArea(a,b,c) that takes as input the lengths of the 3\n",
    "sides of a triangle and returns the area of the triangle. By Heron's formula, the area\n",
    "of a triangle with side lengths a, b, and c is\n",
    "s(s - a)(s -b)(s -c), where\n",
    "s = (a +b + c) /2.\n",
    " triangleArea(2,2,2)\n",
    "1.7320508075688772"
   ]
  },
  {
   "cell_type": "code",
   "execution_count": 43,
   "id": "77f53d7a",
   "metadata": {},
   "outputs": [
    {
     "name": "stdout",
     "output_type": "stream",
     "text": [
      "1.7320508075688772\n"
     ]
    }
   ],
   "source": [
    "import math\n",
    "def trianglearea(a,b,c):\n",
    "    s = (a + b + c) /2\n",
    "\n",
    "    area = math.sqrt(s*(s - a)*(s -b)*(s -c)) \n",
    "    return area\n",
    "\n",
    "area = trianglearea(2,2,2)\n",
    "print(area)"
   ]
  },
  {
   "cell_type": "markdown",
   "id": "26c75494",
   "metadata": {},
   "source": [
    "# Q4\n",
    "Write a program in python to separate odd and even integers in separate arrays. Go\n",
    "to the editor\n",
    "Test Data :\n",
    "Input the number of elements to be stored in the array :5\n",
    "Input 5 elements in the array :\n",
    "element - 0 : 25\n",
    "element - 1 : 47\n",
    "element - 2 : 42\n",
    "element - 3 : 56\n",
    "element - 4 : 32\n",
    "Expected Output:\n",
    "The Even elements are:\n",
    "42 56 32\n",
    "The Odd elements are :\n",
    "25 47"
   ]
  },
  {
   "cell_type": "code",
   "execution_count": 4,
   "id": "c6ab944c",
   "metadata": {},
   "outputs": [
    {
     "name": "stdout",
     "output_type": "stream",
     "text": [
      "even [42, 56, 32]\n",
      "odd [25, 47]\n"
     ]
    }
   ],
   "source": [
    "even = []\n",
    "odd = []\n",
    "\n",
    "for List_number in [25,47,42,56,32]:\n",
    "    if List_number % 2==0:\n",
    "        even.append(List_number)\n",
    "    else:\n",
    "        odd.append(List_number)\n",
    "\n",
    "print('even',even)\n",
    "print('odd',odd)"
   ]
  },
  {
   "cell_type": "markdown",
   "id": "68b4ce9e",
   "metadata": {},
   "source": [
    "# Q5"
   ]
  },
  {
   "cell_type": "code",
   "execution_count": 3,
   "id": "2554d4b5",
   "metadata": {},
   "outputs": [
    {
     "name": "stdout",
     "output_type": "stream",
     "text": [
      "True\n",
      "False\n"
     ]
    }
   ],
   "source": [
    "# a. Write a function inside(x,y,x1,y1,x2,y2) that returns True or False depending on whether the point (x,y) lies in the rectangle with lower left corner (x1,y1) and upper right corner (x2,y2).\n",
    "# >>> inside(1,1,0,0,2,3)\n",
    "# True\n",
    "# >>> inside(-1,-1,0,0,2,3)\n",
    "# False\n",
    "\n",
    "def inside(x, y, x1, y1, x2, y2):\n",
    "    \n",
    "    if x1 <= x <= x2:   \n",
    "        if y1 <= y <= y2:\n",
    "            return True\n",
    "    return False\n",
    "\n",
    "print(inside(1, 1, 0, 0, 2, 3))  \n",
    "print(inside(-1, -1, 0, 0, 2, 3))\n"
   ]
  },
  {
   "cell_type": "code",
   "execution_count": 4,
   "id": "3d4e5c1d",
   "metadata": {},
   "outputs": [
    {
     "name": "stdout",
     "output_type": "stream",
     "text": [
      "point (1, 1) does not lie in both rectangles.\n"
     ]
    }
   ],
   "source": [
    "# b. Use function inside() from part a. to write an expression that tests whether the point (1,1) lies in both of the following rectangles: one with lower left corner (0.3, 0.5) and upper right corner (1.1, 0.7) and the other with lower left corner (0.5, 0.2) and upper right corner (1.1, 2).\n",
    "\n",
    "rect1 = inside(1,1,0.3, 0.5 , 1.1, 0.7)\n",
    "\n",
    "rect2= inside(1,1,0.5, 0.2, 1.1, 2)\n",
    "\n",
    "if rect1 and rect2:\n",
    "    print(\"point (1, 1) lies in both rectangles.\")\n",
    "else:\n",
    "    print(\"point (1, 1) does not lie in both rectangles.\")"
   ]
  },
  {
   "cell_type": "markdown",
   "id": "f7416938",
   "metadata": {},
   "source": [
    "# Q6\n",
    "You can turn a word into pig-Latin using the following two rules (simplified):\n",
    "• If the word starts with a consonant, move that letter to the end and append 'ay'. For example, 'happy' becomes 'appyhay' and 'pencil' becomes 'encilpay'.\n",
    "• If the word starts with a vowel, simply append 'way' to the end of the word. For example, 'enter' becomes 'enterway' and 'other' becomes 'otherway' . For our purposes, there are 5 vowels: a, e, i, o, u (so we count y as a consonant).\n",
    "Write a function pig() that takes a word (i.e., a string) as input and returns its pig-Latin form. Your function should still work if the input word contains upper case characters. Your output should always be lower case however.\n",
    "pig('happy')\n",
    "'appyhay'\n",
    "pig('Enter')\n",
    "'enterway'"
   ]
  },
  {
   "cell_type": "code",
   "execution_count": 4,
   "id": "af1d5710",
   "metadata": {},
   "outputs": [
    {
     "name": "stdout",
     "output_type": "stream",
     "text": [
      "appyay\n",
      "enterway\n"
     ]
    }
   ],
   "source": [
    "def pig(word):\n",
    "\n",
    "    word = word.lower()\n",
    "    \n",
    "    if word[0] in ['a', 'e', 'i', 'o', 'u']:\n",
    "        return word + 'way'\n",
    "    else:\n",
    "        return word[1:] + word[0] + 'ay'\n",
    "    \n",
    "print(pig('Happy')) \n",
    "print(pig('Enter')) "
   ]
  },
  {
   "cell_type": "markdown",
   "id": "15b200c3",
   "metadata": {},
   "source": [
    "# Q7\n",
    "File bloodtype1.txt records blood-types of patients (A, B, AB, O or OO) at a clinic. Write a function bldcount() that reads the file with name name and reports (i.e., prints) how many patients there are in each bloodtype.\n",
    "bldcount('bloodtype.txt')\n",
    "There are 10 patients of blood type A.\n",
    "There is one patient of blood type B.\n",
    "There are 10 patients of blood type AB.\n",
    "There are 12 patients of blood type O.\n",
    "There are no patients of blood type OO."
   ]
  },
  {
   "cell_type": "code",
   "execution_count": 11,
   "id": "a1072f19",
   "metadata": {},
   "outputs": [
    {
     "name": "stdout",
     "output_type": "stream",
     "text": [
      "There are 15 patients of blood type A.\n",
      "There is one patient of blood type B.\n",
      "There are 13 patients of blood type AB.\n",
      "There are 15 patients of blood type O.\n",
      "There are no patients of blood typeOO.\n"
     ]
    }
   ],
   "source": [
    "def bldcount(name):\n",
    "    blood_type_counts = {'A': 0, 'B': 0, 'AB': 0, 'O': 0, 'OO': 0}\n",
    "    infile = open(name)\n",
    "    content = infile.read()\n",
    "    infile.close()\n",
    "    wordList = content.split()\n",
    "\n",
    "    for blood_type in wordList:\n",
    "        blood_type = blood_type.strip()\n",
    "        if blood_type:\n",
    "            blood_type_counts[blood_type] += 1\n",
    "\n",
    "    for blood_type, count in blood_type_counts.items():\n",
    "        if count == 1:\n",
    "            print('There is one patient of blood type ' + blood_type + '.')\n",
    "        elif count == 0:\n",
    "            print('There are no patients of blood type' + blood_type + '.')\n",
    "        else:\n",
    "            print('There are ' + str(count) + ' patients of blood type ' + blood_type + '.')\n",
    "\n",
    "bldcount('bloodtype1.txt')\n"
   ]
  },
  {
   "cell_type": "markdown",
   "id": "270d4157",
   "metadata": {},
   "source": [
    "# Q8\n",
    "Write a function curconv() that takes as input:\n",
    "1. a currency represented using a string (e.g., 'JPY' for the Japanese Yen or 'EUR' for the Euro)\n",
    "2. an amount\n",
    "and then converts and returns the amount in US dollars.\n",
    "curconv('EUR', 100)\n",
    "122.96544\n",
    " curconv('JPY', 100)\n",
    "1.241401\n",
    "The currency rates you will need are stored in file currencies.txt:"
   ]
  },
  {
   "cell_type": "code",
   "execution_count": 37,
   "id": "9a0fa538",
   "metadata": {},
   "outputs": [
    {
     "name": "stdout",
     "output_type": "stream",
     "text": [
      "122.96544\n",
      "1.241401\n",
      "103.45157\n"
     ]
    }
   ],
   "source": [
    "def curconv(currency, amount):\n",
    "\n",
    "    infile = open('currencies.txt', 'r')\n",
    "    content = infile.readlines()\n",
    "    infile.close()\n",
    "\n",
    "    currency_rates = {}\n",
    "    for line in content:\n",
    "        parts = line.split()\n",
    "        currency_code = parts[0]\n",
    "        rate = float(parts[1])\n",
    "        currency_rates[currency_code] = rate\n",
    "    \n",
    "    usd_amount = amount * currency_rates[currency]\n",
    "    return usd_amount\n",
    "\n",
    "print(curconv('EUR', 100))\n",
    "print(curconv('JPY', 100))\n",
    "print(curconv('AUD', 100))"
   ]
  },
  {
   "cell_type": "markdown",
   "id": "75a4b9e1",
   "metadata": {},
   "source": [
    "# Q9\n",
    "Each of the following will cause an exception (an error). Identify what type of exception each will cause.\n",
    "\n",
    "a.Trying to add incompatible variables, as in adding 6 + ‘a’ \n",
    "=  TypeError \n",
    "\n",
    "b.Referring to the 12th item of a list that has only 10 items\n",
    "= IndexError\n",
    "\n",
    "c.Using a value that is out of range for a functi on’sinput, such as calling math.sqrt( 1.0) \n",
    "= ValueError\n",
    "\n",
    "d.Using an undeclared variable, such as print(x) when x has not been defined \n",
    "= NameError\n",
    "\n",
    "e.Trying to open a file that does not exist, such as mistyping the file name or looking in the wrong directory. \n",
    "= FileNotFoundError"
   ]
  },
  {
   "cell_type": "code",
   "execution_count": null,
   "id": "a8739678",
   "metadata": {},
   "outputs": [],
   "source": []
  },
  {
   "cell_type": "code",
   "execution_count": 26,
   "id": "6d63aca5",
   "metadata": {},
   "outputs": [
    {
     "ename": "TypeError",
     "evalue": "unsupported operand type(s) for +: 'int' and 'str'",
     "output_type": "error",
     "traceback": [
      "\u001b[1;31m---------------------------------------------------------------------------\u001b[0m",
      "\u001b[1;31mTypeError\u001b[0m                                 Traceback (most recent call last)",
      "Cell \u001b[1;32mIn[26], line 5\u001b[0m\n\u001b[0;32m      2\u001b[0m x \u001b[38;5;241m=\u001b[39m \u001b[38;5;241m6\u001b[39m\n\u001b[0;32m      3\u001b[0m y \u001b[38;5;241m=\u001b[39m \u001b[38;5;124m'\u001b[39m\u001b[38;5;124ma\u001b[39m\u001b[38;5;124m'\u001b[39m\n\u001b[1;32m----> 5\u001b[0m result \u001b[38;5;241m=\u001b[39m x \u001b[38;5;241m+\u001b[39m y\n\u001b[0;32m      6\u001b[0m \u001b[38;5;28mprint\u001b[39m(\u001b[38;5;124m\"\u001b[39m\u001b[38;5;124mThis will not be executed.\u001b[39m\u001b[38;5;124m\"\u001b[39m)\n",
      "\u001b[1;31mTypeError\u001b[0m: unsupported operand type(s) for +: 'int' and 'str'"
     ]
    }
   ],
   "source": [
    "# a.\n",
    "x = 6\n",
    "y = 'a'\n",
    "\n",
    "result = x + y\n",
    "print(\"This will not be executed.\")"
   ]
  },
  {
   "cell_type": "code",
   "execution_count": 30,
   "id": "8f932159",
   "metadata": {},
   "outputs": [
    {
     "ename": "IndexError",
     "evalue": "list index out of range",
     "output_type": "error",
     "traceback": [
      "\u001b[1;31m---------------------------------------------------------------------------\u001b[0m",
      "\u001b[1;31mIndexError\u001b[0m                                Traceback (most recent call last)",
      "Cell \u001b[1;32mIn[30], line 4\u001b[0m\n\u001b[0;32m      1\u001b[0m \u001b[38;5;66;03m# b.\u001b[39;00m\n\u001b[0;32m      2\u001b[0m x \u001b[38;5;241m=\u001b[39m [\u001b[38;5;241m1\u001b[39m, \u001b[38;5;241m2\u001b[39m, \u001b[38;5;241m3\u001b[39m, \u001b[38;5;241m4\u001b[39m, \u001b[38;5;241m5\u001b[39m, \u001b[38;5;241m6\u001b[39m, \u001b[38;5;241m7\u001b[39m, \u001b[38;5;241m8\u001b[39m, \u001b[38;5;241m9\u001b[39m, \u001b[38;5;241m10\u001b[39m]\n\u001b[1;32m----> 4\u001b[0m item \u001b[38;5;241m=\u001b[39m x[\u001b[38;5;241m12\u001b[39m]\n",
      "\u001b[1;31mIndexError\u001b[0m: list index out of range"
     ]
    }
   ],
   "source": [
    "# b.\n",
    "x = [1, 2, 3, 4, 5, 6, 7, 8, 9, 10]\n",
    "\n",
    "item = x[12]"
   ]
  },
  {
   "cell_type": "code",
   "execution_count": 31,
   "id": "b477f314",
   "metadata": {},
   "outputs": [
    {
     "ename": "ValueError",
     "evalue": "math domain error",
     "output_type": "error",
     "traceback": [
      "\u001b[1;31m---------------------------------------------------------------------------\u001b[0m",
      "\u001b[1;31mValueError\u001b[0m                                Traceback (most recent call last)",
      "Cell \u001b[1;32mIn[31], line 3\u001b[0m\n\u001b[0;32m      1\u001b[0m \u001b[38;5;66;03m# c.\u001b[39;00m\n\u001b[0;32m      2\u001b[0m \u001b[38;5;28;01mimport\u001b[39;00m \u001b[38;5;21;01mmath\u001b[39;00m\n\u001b[1;32m----> 3\u001b[0m result \u001b[38;5;241m=\u001b[39m math\u001b[38;5;241m.\u001b[39msqrt(\u001b[38;5;241m-\u001b[39m\u001b[38;5;241m1.0\u001b[39m)\n",
      "\u001b[1;31mValueError\u001b[0m: math domain error"
     ]
    }
   ],
   "source": [
    "# c.\n",
    "import math\n",
    "result = math.sqrt(-1.0)"
   ]
  },
  {
   "cell_type": "code",
   "execution_count": 33,
   "id": "c35c14ed",
   "metadata": {},
   "outputs": [
    {
     "ename": "NameError",
     "evalue": "name 'b' is not defined",
     "output_type": "error",
     "traceback": [
      "\u001b[1;31m---------------------------------------------------------------------------\u001b[0m",
      "\u001b[1;31mNameError\u001b[0m                                 Traceback (most recent call last)",
      "Cell \u001b[1;32mIn[33], line 1\u001b[0m\n\u001b[1;32m----> 1\u001b[0m \u001b[38;5;28mprint\u001b[39m(b)\n",
      "\u001b[1;31mNameError\u001b[0m: name 'b' is not defined"
     ]
    }
   ],
   "source": [
    "print(b)"
   ]
  },
  {
   "cell_type": "code",
   "execution_count": 35,
   "id": "5c8a39d8",
   "metadata": {},
   "outputs": [
    {
     "ename": "FileNotFoundError",
     "evalue": "[Errno 2] No such file or directory: 'jay.txt'",
     "output_type": "error",
     "traceback": [
      "\u001b[1;31m---------------------------------------------------------------------------\u001b[0m",
      "\u001b[1;31mFileNotFoundError\u001b[0m                         Traceback (most recent call last)",
      "Cell \u001b[1;32mIn[35], line 1\u001b[0m\n\u001b[1;32m----> 1\u001b[0m infile \u001b[38;5;241m=\u001b[39m \u001b[38;5;28mopen\u001b[39m(\u001b[38;5;124m'\u001b[39m\u001b[38;5;124mjay.txt\u001b[39m\u001b[38;5;124m'\u001b[39m)\n",
      "File \u001b[1;32m~\\anaconda3\\Lib\\site-packages\\IPython\\core\\interactiveshell.py:284\u001b[0m, in \u001b[0;36m_modified_open\u001b[1;34m(file, *args, **kwargs)\u001b[0m\n\u001b[0;32m    277\u001b[0m \u001b[38;5;28;01mif\u001b[39;00m file \u001b[38;5;129;01min\u001b[39;00m {\u001b[38;5;241m0\u001b[39m, \u001b[38;5;241m1\u001b[39m, \u001b[38;5;241m2\u001b[39m}:\n\u001b[0;32m    278\u001b[0m     \u001b[38;5;28;01mraise\u001b[39;00m \u001b[38;5;167;01mValueError\u001b[39;00m(\n\u001b[0;32m    279\u001b[0m         \u001b[38;5;124mf\u001b[39m\u001b[38;5;124m\"\u001b[39m\u001b[38;5;124mIPython won\u001b[39m\u001b[38;5;124m'\u001b[39m\u001b[38;5;124mt let you open fd=\u001b[39m\u001b[38;5;132;01m{\u001b[39;00mfile\u001b[38;5;132;01m}\u001b[39;00m\u001b[38;5;124m by default \u001b[39m\u001b[38;5;124m\"\u001b[39m\n\u001b[0;32m    280\u001b[0m         \u001b[38;5;124m\"\u001b[39m\u001b[38;5;124mas it is likely to crash IPython. If you know what you are doing, \u001b[39m\u001b[38;5;124m\"\u001b[39m\n\u001b[0;32m    281\u001b[0m         \u001b[38;5;124m\"\u001b[39m\u001b[38;5;124myou can use builtins\u001b[39m\u001b[38;5;124m'\u001b[39m\u001b[38;5;124m open.\u001b[39m\u001b[38;5;124m\"\u001b[39m\n\u001b[0;32m    282\u001b[0m     )\n\u001b[1;32m--> 284\u001b[0m \u001b[38;5;28;01mreturn\u001b[39;00m io_open(file, \u001b[38;5;241m*\u001b[39margs, \u001b[38;5;241m*\u001b[39m\u001b[38;5;241m*\u001b[39mkwargs)\n",
      "\u001b[1;31mFileNotFoundError\u001b[0m: [Errno 2] No such file or directory: 'jay.txt'"
     ]
    }
   ],
   "source": [
    "infile = open('jay.txt')"
   ]
  },
  {
   "cell_type": "markdown",
   "id": "46f72ef5",
   "metadata": {},
   "source": [
    "# Q10\n",
    "Encryption is the process of hiding the meaning of a text by substituting letters in the message with other letters, according to some system. If the process is successful, no one but the intended recipient can understand the encrypted message. Cryptanalysis refers to attempts to undo the encryption, even if some details of the encryption are unknown (for example, if an encrypted message has been intercepted). The first step of cryptanalysis is often to build up a table of letter frequencies in the encrypted text. Assume that the string letters is already defined as 'abcdefghijklmnopqrstuvwxyz'. Write a function called frequencies() that takes a string as its only parameter, and returns a list of integers, showing the number of times each character appears in the text. Your function may ignore any characters that are not in letters.\n",
    "frequencies('The quick red fox got bored and went home.')\n",
    "[1, 1, 1, 3, 5, 1, 1, 2, 1, 0, 1, 0, 1, 2, 4, 0, 1, 2, 0, 2, 1, 0, 1, 1, 0, 0]\n",
    "frequencies('apple')"
   ]
  },
  {
   "cell_type": "code",
   "execution_count": 52,
   "id": "89abc5be",
   "metadata": {},
   "outputs": [
    {
     "name": "stdout",
     "output_type": "stream",
     "text": [
      "[1, 1, 1, 3, 5, 1, 1, 2, 1, 0, 1, 0, 1, 2, 4, 0, 1, 2, 0, 3, 1, 0, 1, 1, 0, 0]\n",
      "[1, 0, 0, 0, 1, 0, 0, 0, 0, 0, 0, 1, 0, 0, 0, 2, 0, 0, 0, 0, 0, 0, 0, 0, 0, 0]\n",
      "[1, 0, 0, 0, 0, 0, 0, 0, 0, 1, 0, 0, 0, 0, 0, 0, 0, 0, 0, 0, 0, 0, 0, 0, 1, 0]\n"
     ]
    }
   ],
   "source": [
    "def frequencies(text):\n",
    "    text = text.lower()\n",
    "    str = 'abcdefghijklmnopqrstuvwxyz'\n",
    "    count_list = []\n",
    "\n",
    "    for letter in str:\n",
    "        count = text.count(letter)\n",
    "        count_list.append(count)\n",
    "\n",
    "    return count_list\n",
    "\n",
    "print(frequencies('The quick red fox got bored and went home.'))\n",
    "print(frequencies('apple'))\n",
    "print(frequencies('jay'))"
   ]
  }
 ],
 "metadata": {
  "kernelspec": {
   "display_name": "Python 3 (ipykernel)",
   "language": "python",
   "name": "python3"
  },
  "language_info": {
   "codemirror_mode": {
    "name": "ipython",
    "version": 3
   },
   "file_extension": ".py",
   "mimetype": "text/x-python",
   "name": "python",
   "nbconvert_exporter": "python",
   "pygments_lexer": "ipython3",
   "version": "3.11.4"
  }
 },
 "nbformat": 4,
 "nbformat_minor": 5
}
